{
  "nbformat": 4,
  "nbformat_minor": 0,
  "metadata": {
    "colab": {
      "provenance": [],
      "authorship_tag": "ABX9TyM0xY5jFfuaZjVNu/U/37w6",
      "include_colab_link": true
    },
    "kernelspec": {
      "name": "python3",
      "display_name": "Python 3"
    },
    "language_info": {
      "name": "python"
    }
  },
  "cells": [
    {
      "cell_type": "markdown",
      "metadata": {
        "id": "view-in-github",
        "colab_type": "text"
      },
      "source": [
        "<a href=\"https://colab.research.google.com/github/Vansh17555555/Python_Libraries/blob/main/OOP.ipynb\" target=\"_parent\"><img src=\"https://colab.research.google.com/assets/colab-badge.svg\" alt=\"Open In Colab\"/></a>"
      ]
    },
    {
      "cell_type": "markdown",
      "source": [
        "OBJECT ORIENTED PROGRAMMING IN PYTHON\n",
        "\n"
      ],
      "metadata": {
        "id": "uaR8veQTqhLq"
      }
    },
    {
      "cell_type": "markdown",
      "source": [],
      "metadata": {
        "id": "PcXHQ-sIB2TE"
      }
    },
    {
      "cell_type": "code",
      "source": [
        "#first class\n",
        "class Car:\n",
        "  pass #empty class\n",
        "ford=Car()\n",
        "honda=Car()\n",
        "audi=Car()\n",
        "ford.speed=200\n",
        "honda.speed=220\n",
        "audi.speed=250\n",
        "ford.color='red'\n",
        "honda.color='blue'\n",
        "audi.color='black'\n",
        "print(ford.speed)\n",
        "print(ford.color)\n",
        "ford.speed=300\n",
        "ford.color='blue'\n",
        "print(ford.speed)\n",
        "print(ford.color)"
      ],
      "metadata": {
        "colab": {
          "base_uri": "https://localhost:8080/"
        },
        "id": "-uOr_5fnqmTw",
        "outputId": "51b3e5a8-d80c-4f7b-83e2-0b55d7c02a23"
      },
      "execution_count": null,
      "outputs": [
        {
          "output_type": "stream",
          "name": "stdout",
          "text": [
            "200\n",
            "red\n",
            "300\n",
            "blue\n"
          ]
        }
      ]
    },
    {
      "cell_type": "code",
      "source": [
        "class rectangle:\n",
        "  pass\n",
        "rect1=rectangle()\n",
        "rect2=rectangle()\n",
        "rect1.height=20\n",
        "rect2.height=30\n",
        "rect1.width=40\n",
        "rect2.width=10\n",
        "print(rect1.height*rect1.width)\n",
        "print(rect2.height*rect2.width)"
      ],
      "metadata": {
        "colab": {
          "base_uri": "https://localhost:8080/"
        },
        "id": "VNoetG_ush2i",
        "outputId": "c29bd932-c4a8-49da-907d-95994b587ae1"
      },
      "execution_count": null,
      "outputs": [
        {
          "output_type": "stream",
          "name": "stdout",
          "text": [
            "800\n",
            "300\n"
          ]
        }
      ]
    },
    {
      "cell_type": "code",
      "source": [],
      "metadata": {
        "id": "OFAJKJSAvEV1"
      },
      "execution_count": null,
      "outputs": []
    },
    {
      "cell_type": "markdown",
      "source": [
        "Constructor\n"
      ],
      "metadata": {
        "id": "H_qriruRtD9j"
      }
    },
    {
      "cell_type": "code",
      "source": [
        "class Car:\n",
        "  #pass #empty class\n",
        "  def __init__(self,speed,color):\n",
        "\n",
        "    print('the__init__is called')\n",
        "    self.speed=speed\n",
        "    self.color=color\n",
        "    print(color)\n",
        "    print(speed)\n",
        "ford=Car(200,'red')\n",
        "honda=Car(250,'blue')\n",
        "audi=Car(300,'black')\n",
        "print(ford.speed)\n",
        "print(ford.color)\n",
        "'''ford.speed=200\n",
        "honda.speed=220\n",
        "audi.speed=250\n",
        "ford.color='red'\n",
        "honda.color='blue'\n",
        "audi.color='black'\n",
        "print(ford.speed)\n",
        "print(ford.color)\n",
        "ford.speed=300\n",
        "ford.color='blue'\n",
        "print(ford.speed)\n",
        "print(ford.color)'''"
      ],
      "metadata": {
        "colab": {
          "base_uri": "https://localhost:8080/",
          "height": 261
        },
        "id": "WJrbPdzEtaj6",
        "outputId": "83607601-194d-418d-9157-295c639a9c2c"
      },
      "execution_count": null,
      "outputs": [
        {
          "output_type": "stream",
          "name": "stdout",
          "text": [
            "the__init__is called\n",
            "red\n",
            "200\n",
            "the__init__is called\n",
            "blue\n",
            "250\n",
            "the__init__is called\n",
            "black\n",
            "300\n",
            "200\n",
            "red\n"
          ]
        },
        {
          "output_type": "execute_result",
          "data": {
            "text/plain": [
              "\"ford.speed=200\\nhonda.speed=220\\naudi.speed=250\\nford.color='red'\\nhonda.color='blue'\\naudi.color='black'\\nprint(ford.speed)\\nprint(ford.color)\\nford.speed=300\\nford.color='blue'\\nprint(ford.speed)\\nprint(ford.color)\""
            ],
            "application/vnd.google.colaboratory.intrinsic+json": {
              "type": "string"
            }
          },
          "metadata": {},
          "execution_count": 12
        }
      ]
    },
    {
      "cell_type": "code",
      "source": [
        "class rectangle:\n",
        "  def __init__(self,height,width):\n",
        "    self.height=height\n",
        "    self.width=width\n",
        "rect1=rectangle(30,40)\n",
        "rect2=rectangle(30,60)\n",
        "'''rect1.height=20\n",
        "rect2.height=30\n",
        "rect1.width=40\n",
        "rect2.width=10'''\n",
        "print(rect1.height*rect1.width)\n",
        "print(rect2.height*rect2.width)"
      ],
      "metadata": {
        "colab": {
          "base_uri": "https://localhost:8080/"
        },
        "id": "RXlj5o7Jty3a",
        "outputId": "4ba396e2-f0d1-4b15-d9c3-68b12a68d19c"
      },
      "execution_count": null,
      "outputs": [
        {
          "output_type": "stream",
          "name": "stdout",
          "text": [
            "1200\n",
            "1800\n"
          ]
        }
      ]
    },
    {
      "cell_type": "markdown",
      "source": [
        "in python u cant have multiple constructors"
      ],
      "metadata": {
        "id": "ELI7mZ3RwOCn"
      }
    },
    {
      "cell_type": "code",
      "source": [
        "class Hello:\n",
        "  def __init__(self): pass\n",
        "  def __init__(self,name): pass\n",
        "hello=Hello('name')"
      ],
      "metadata": {
        "id": "BUtXIjOWvjzF"
      },
      "execution_count": null,
      "outputs": []
    },
    {
      "cell_type": "code",
      "source": [
        "class Hello:\n",
        "  def __init__(self,*args,**kwargs): pass #kwargs takes keywords\n",
        "hello=Hello()\n",
        "hello=Hello('name','sh','ddd')\n",
        "print(hello)"
      ],
      "metadata": {
        "colab": {
          "base_uri": "https://localhost:8080/"
        },
        "id": "Wib0gZL9wXcP",
        "outputId": "f597c51e-5604-4b38-9e76-04fc6b1a1009"
      },
      "execution_count": null,
      "outputs": [
        {
          "output_type": "stream",
          "name": "stdout",
          "text": [
            "<__main__.Hello object at 0x790072d009d0>\n"
          ]
        }
      ]
    },
    {
      "cell_type": "code",
      "source": [
        "class Hello:\n",
        "  def __init__(self,name):\n",
        "    self.name=name\n",
        "    self.age=10\n",
        "hello=Hello('name')"
      ],
      "metadata": {
        "id": "OktgTM73dBIq"
      },
      "execution_count": null,
      "outputs": []
    },
    {
      "cell_type": "markdown",
      "source": [
        "Encapsulation"
      ],
      "metadata": {
        "id": "TaAnnq5veID2"
      }
    },
    {
      "cell_type": "code",
      "source": [
        "class Car:\n",
        "  def __init__(self,speed,color):\n",
        "    self.speed=speed\n",
        "    self.color=color\n",
        "  def set_speed(self,value):\n",
        "    self.speed=value\n",
        "  def get_speed(self):\n",
        "    return self.speed\n",
        "  ford=Car(200,'red')\n",
        "  honda=Car(250,'blue')\n",
        "  audi=Car(300,'black')\n",
        "  ford.set_speed(300)\n",
        "  print(ford.get_speed())"
      ],
      "metadata": {
        "colab": {
          "base_uri": "https://localhost:8080/"
        },
        "id": "qlZ1pnUBeK6E",
        "outputId": "76fbaee3-f445-4662-ead3-a4a4b17d1cea"
      },
      "execution_count": null,
      "outputs": [
        {
          "output_type": "stream",
          "name": "stdout",
          "text": [
            "300\n"
          ]
        }
      ]
    },
    {
      "cell_type": "code",
      "source": [
        "class Hello:\n",
        "  def __init__(self,name):\n",
        "    self.a=10\n",
        "    self._b=20\n",
        "    self.__c=30\n",
        "hello=Hello('bans')\n",
        "print(hello.a)\n",
        "print(hello._b)\n",
        "print(hello.__C)#double underscores are used for making data private"
      ],
      "metadata": {
        "colab": {
          "base_uri": "https://localhost:8080/",
          "height": 245
        },
        "id": "yHayfBlJ94-a",
        "outputId": "a1470b33-5450-40a0-fea3-38b936d8873e"
      },
      "execution_count": null,
      "outputs": [
        {
          "output_type": "stream",
          "name": "stdout",
          "text": [
            "10\n",
            "20\n"
          ]
        },
        {
          "output_type": "error",
          "ename": "AttributeError",
          "evalue": "ignored",
          "traceback": [
            "\u001b[0;31m---------------------------------------------------------------------------\u001b[0m",
            "\u001b[0;31mAttributeError\u001b[0m                            Traceback (most recent call last)",
            "\u001b[0;32m<ipython-input-11-ae482ab4c324>\u001b[0m in \u001b[0;36m<cell line: 9>\u001b[0;34m()\u001b[0m\n\u001b[1;32m      7\u001b[0m \u001b[0mprint\u001b[0m\u001b[0;34m(\u001b[0m\u001b[0mhello\u001b[0m\u001b[0;34m.\u001b[0m\u001b[0ma\u001b[0m\u001b[0;34m)\u001b[0m\u001b[0;34m\u001b[0m\u001b[0;34m\u001b[0m\u001b[0m\n\u001b[1;32m      8\u001b[0m \u001b[0mprint\u001b[0m\u001b[0;34m(\u001b[0m\u001b[0mhello\u001b[0m\u001b[0;34m.\u001b[0m\u001b[0m_b\u001b[0m\u001b[0;34m)\u001b[0m\u001b[0;34m\u001b[0m\u001b[0;34m\u001b[0m\u001b[0m\n\u001b[0;32m----> 9\u001b[0;31m \u001b[0mprint\u001b[0m\u001b[0;34m(\u001b[0m\u001b[0mhello\u001b[0m\u001b[0;34m.\u001b[0m\u001b[0m__C\u001b[0m\u001b[0;34m)\u001b[0m\u001b[0;34m\u001b[0m\u001b[0;34m\u001b[0m\u001b[0m\n\u001b[0m",
            "\u001b[0;31mAttributeError\u001b[0m: 'Hello' object has no attribute '__C'"
          ]
        }
      ]
    },
    {
      "cell_type": "code",
      "source": [],
      "metadata": {
        "id": "qTEiJ2Vv-ape"
      },
      "execution_count": null,
      "outputs": []
    }
  ]
}